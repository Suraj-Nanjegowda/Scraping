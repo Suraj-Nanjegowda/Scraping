{
 "cells": [
  {
   "cell_type": "code",
   "execution_count": 1,
   "id": "a64bab08",
   "metadata": {},
   "outputs": [],
   "source": [
    "from selenium import webdriver\n",
    "from bs4 import BeautifulSoup\n",
    "import pandas as pd\n",
    "\n"
   ]
  },
  {
   "cell_type": "code",
   "execution_count": 2,
   "id": "41c6133a",
   "metadata": {},
   "outputs": [
    {
     "name": "stderr",
     "output_type": "stream",
     "text": [
      "<ipython-input-2-d2600ba233e2>:3: DeprecationWarning: executable_path has been deprecated, please pass in a Service object\n",
      "  driver=webdriver.Chrome(\"C:/Users/snanjegowda/Downloads/SMF/chromedriver.exe\")\n"
     ]
    }
   ],
   "source": [
    "#Change the path or direct the webdriver to Chromedriver location\n",
    "\n",
    "driver=webdriver.Chrome(\"C:/Users/snanjegowda/Downloads/SMF/chromedriver.exe\")"
   ]
  },
  {
   "cell_type": "code",
   "execution_count": 3,
   "id": "bcf22b05",
   "metadata": {},
   "outputs": [],
   "source": [
    "#samsung_s21=https://www.flipkart.com/samsung-galaxy-s21-phantom-violet-256-gb/product-reviews/itm4bb4abdd53994?pid=MOBFZ3TMHG3G3DZZ&lid=LSTMOBFZ3TMHG3G3DZZRIOOQC&marketplace=FLIPKART&page=1"
   ]
  },
  {
   "cell_type": "code",
   "execution_count": 4,
   "id": "a0ca6297",
   "metadata": {},
   "outputs": [],
   "source": [
    "# use the URL for any phones which ends with page number at the end of URL. For ex: &page=1, &page=2.... \n",
    "\n",
    "test='https://www.flipkart.com/apple-iphone-13-blue-128-gb/product-reviews/itm6c601e0a58b3c?pid=MOBG6VF5SMXPNQHG&lid=LSTMOBG6VF5SMXPNQHGL5FN51&marketplace=FLIPKART&page=1'"
   ]
  },
  {
   "cell_type": "code",
   "execution_count": 5,
   "id": "13b99d0f",
   "metadata": {},
   "outputs": [
    {
     "name": "stderr",
     "output_type": "stream",
     "text": [
      "<ipython-input-5-7f22af58a685>:3: DeprecationWarning: find_elements_by_class_name is deprecated. Please use find_elements(by=By.CLASS_NAME, value=name) instead\n",
      "  [item.click() for item in driver.find_elements_by_class_name(\"_1BWGvX\")]\n"
     ]
    }
   ],
   "source": [
    "#to handle READMORE click in reviews\n",
    "\n",
    "driver.get(test)\n",
    "[item.click() for item in driver.find_elements_by_class_name(\"_1BWGvX\")]\n",
    "\n",
    "content = driver.page_source\n",
    "\n",
    "driver.quit()"
   ]
  },
  {
   "cell_type": "code",
   "execution_count": 6,
   "id": "e3160e36",
   "metadata": {},
   "outputs": [],
   "source": [
    "soup = BeautifulSoup(content,'lxml')"
   ]
  },
  {
   "cell_type": "code",
   "execution_count": 7,
   "id": "338c7494",
   "metadata": {},
   "outputs": [],
   "source": [
    "titles=soup.find_all('div',{'class':\"t-ZTKy\"})\n"
   ]
  },
  {
   "cell_type": "code",
   "execution_count": 8,
   "id": "ae81a313",
   "metadata": {},
   "outputs": [],
   "source": [
    "# Logic to get author name, date of the review, Number of upvotes\n",
    "\n",
    "authors=[]\n",
    "times=[]\n",
    "upvotess=[]\n",
    "name=soup.find_all('div',{'class':\"row _3n8db9\"})\n",
    "for n in name:\n",
    "    author=n.find('p',{'class':\"_2sc7ZR _2V5EHH\"}).text\n",
    "    authors.append(author)\n",
    "    time=n.find(lambda tag: tag.name == 'p' and tag.get('class') == ['_2sc7ZR']).text\n",
    "    times.append(time)\n",
    "    #cross check usefulness tag\n",
    "    upvotes=n.find('span',{'class':\"_3c3Px5\"}).text\n",
    "    upvotess.append(upvotes)\n",
    "    "
   ]
  },
  {
   "cell_type": "code",
   "execution_count": 9,
   "id": "d6729b09",
   "metadata": {},
   "outputs": [],
   "source": [
    "# Logic to get reviews\n",
    "\n",
    "reviews=[]\n",
    "titles=soup.find_all('div',{'class':\"t-ZTKy\"})\n",
    "for title in titles:\n",
    "    review=title.find('div',{'class':\"\"}).text[:title.text.find('READ MORE')]\n",
    "    reviews.append(review)\n",
    "  "
   ]
  },
  {
   "cell_type": "code",
   "execution_count": 10,
   "id": "0b22e3d4",
   "metadata": {},
   "outputs": [],
   "source": [
    "# Logic to get review title\n",
    "\n",
    "review_titles=[]\n",
    "review_title=soup.find_all('div',{'class':\"col _2wzgFH K0kLPL\"})\n",
    "for each_title in review_title:\n",
    "    title_heading=each_title.find('p',{'class':\"_2-N8zT\"}).text\n",
    "    review_titles.append(title_heading)"
   ]
  },
  {
   "cell_type": "code",
   "execution_count": 11,
   "id": "f8ce9bdd",
   "metadata": {},
   "outputs": [],
   "source": [
    "# Creating Dataframe with all the data\n",
    "\n",
    "dict = {'title':soup.title.text,'author': authors, 'time': times, 'upvotes': upvotess,'review_titles':review_titles,'reviews':reviews} \n",
    "    \n",
    "df = pd.DataFrame(dict)\n",
    "    \n",
    "\n",
    "#export to csv file.. Change the location as required\n",
    "df.to_csv(r'C:\\Users\\snanjegowda\\Downloads\\SMF\\output.csv',index=False)"
   ]
  },
  {
   "cell_type": "code",
   "execution_count": null,
   "id": "938d8585",
   "metadata": {},
   "outputs": [],
   "source": []
  }
 ],
 "metadata": {
  "kernelspec": {
   "display_name": "Python 3",
   "language": "python",
   "name": "python3"
  },
  "language_info": {
   "codemirror_mode": {
    "name": "ipython",
    "version": 3
   },
   "file_extension": ".py",
   "mimetype": "text/x-python",
   "name": "python",
   "nbconvert_exporter": "python",
   "pygments_lexer": "ipython3",
   "version": "3.8.8"
  }
 },
 "nbformat": 4,
 "nbformat_minor": 5
}
